{
 "cells": [
  {
   "cell_type": "markdown",
   "metadata": {},
   "source": [
    "# Feature selection and Logit Transformation"
   ]
  },
  {
   "cell_type": "markdown",
   "metadata": {},
   "source": [
    "With all the hype and ML competition focus on deep learning while making incredibly complex models that will likely never be pushed into production, manual feature selection and feature engineering is becoming a lost skill set."
   ]
  },
  {
   "cell_type": "markdown",
   "metadata": {},
   "source": [
    "This is a brief tutorial using a small data set to illustrate some of the pitfalls with correlation and how we can improve results with once-common feature engineering techniques."
   ]
  },
  {
   "cell_type": "code",
   "execution_count": 1,
   "metadata": {
    "collapsed": true
   },
   "outputs": [],
   "source": [
    "%matplotlib inline\n",
    "import numpy as np\n",
    "import pandas as pd\n",
    "import matplotlib.pyplot as plt\n",
    "from sklearn.model_selection import train_test_split\n",
    "from sklearn.linear_model import LinearRegression\n",
    "from sklearn import metrics\n",
    "from sklearn import datasets\n",
    "from math import sqrt\n",
    "import seaborn as sns"
   ]
  },
  {
   "cell_type": "code",
   "execution_count": 2,
   "metadata": {
    "collapsed": true
   },
   "outputs": [],
   "source": [
    "df = pd.read_csv('data/auto-mpg.csv')"
   ]
  },
  {
   "cell_type": "code",
   "execution_count": 3,
   "metadata": {},
   "outputs": [
    {
     "data": {
      "text/html": [
       "<div>\n",
       "<style>\n",
       "    .dataframe thead tr:only-child th {\n",
       "        text-align: right;\n",
       "    }\n",
       "\n",
       "    .dataframe thead th {\n",
       "        text-align: left;\n",
       "    }\n",
       "\n",
       "    .dataframe tbody tr th {\n",
       "        vertical-align: top;\n",
       "    }\n",
       "</style>\n",
       "<table border=\"1\" class=\"dataframe\">\n",
       "  <thead>\n",
       "    <tr style=\"text-align: right;\">\n",
       "      <th></th>\n",
       "      <th>MPG</th>\n",
       "      <th>CYLINDERS</th>\n",
       "      <th>DISPLACEMENT</th>\n",
       "      <th>HORSEPOWER</th>\n",
       "      <th>WEIGHT</th>\n",
       "      <th>ACCELERATION</th>\n",
       "      <th>MODELYEAR</th>\n",
       "      <th>NAME</th>\n",
       "    </tr>\n",
       "  </thead>\n",
       "  <tbody>\n",
       "    <tr>\n",
       "      <th>0</th>\n",
       "      <td>18.0</td>\n",
       "      <td>8</td>\n",
       "      <td>307.0</td>\n",
       "      <td>130</td>\n",
       "      <td>3504</td>\n",
       "      <td>12.0</td>\n",
       "      <td>70</td>\n",
       "      <td>chevrolet chevelle malibu</td>\n",
       "    </tr>\n",
       "    <tr>\n",
       "      <th>1</th>\n",
       "      <td>15.0</td>\n",
       "      <td>8</td>\n",
       "      <td>350.0</td>\n",
       "      <td>165</td>\n",
       "      <td>3693</td>\n",
       "      <td>11.5</td>\n",
       "      <td>70</td>\n",
       "      <td>buick skylark 320</td>\n",
       "    </tr>\n",
       "    <tr>\n",
       "      <th>2</th>\n",
       "      <td>18.0</td>\n",
       "      <td>8</td>\n",
       "      <td>318.0</td>\n",
       "      <td>150</td>\n",
       "      <td>3436</td>\n",
       "      <td>11.0</td>\n",
       "      <td>70</td>\n",
       "      <td>plymouth satellite</td>\n",
       "    </tr>\n",
       "    <tr>\n",
       "      <th>3</th>\n",
       "      <td>16.0</td>\n",
       "      <td>8</td>\n",
       "      <td>304.0</td>\n",
       "      <td>150</td>\n",
       "      <td>3433</td>\n",
       "      <td>12.0</td>\n",
       "      <td>70</td>\n",
       "      <td>amc rebel sst</td>\n",
       "    </tr>\n",
       "    <tr>\n",
       "      <th>4</th>\n",
       "      <td>17.0</td>\n",
       "      <td>8</td>\n",
       "      <td>302.0</td>\n",
       "      <td>140</td>\n",
       "      <td>3449</td>\n",
       "      <td>10.5</td>\n",
       "      <td>70</td>\n",
       "      <td>ford torino</td>\n",
       "    </tr>\n",
       "  </tbody>\n",
       "</table>\n",
       "</div>"
      ],
      "text/plain": [
       "    MPG  CYLINDERS  DISPLACEMENT HORSEPOWER  WEIGHT  ACCELERATION  MODELYEAR  \\\n",
       "0  18.0          8         307.0        130    3504          12.0         70   \n",
       "1  15.0          8         350.0        165    3693          11.5         70   \n",
       "2  18.0          8         318.0        150    3436          11.0         70   \n",
       "3  16.0          8         304.0        150    3433          12.0         70   \n",
       "4  17.0          8         302.0        140    3449          10.5         70   \n",
       "\n",
       "                        NAME  \n",
       "0  chevrolet chevelle malibu  \n",
       "1          buick skylark 320  \n",
       "2         plymouth satellite  \n",
       "3              amc rebel sst  \n",
       "4                ford torino  "
      ]
     },
     "execution_count": 3,
     "metadata": {},
     "output_type": "execute_result"
    }
   ],
   "source": [
    "df.head()"
   ]
  },
  {
   "cell_type": "markdown",
   "metadata": {},
   "source": [
    "we can drop HORSEPOWER or clean up the column since we have so few variables in this data set, we will clean it up"
   ]
  },
  {
   "cell_type": "code",
   "execution_count": 4,
   "metadata": {},
   "outputs": [
    {
     "name": "stdout",
     "output_type": "stream",
     "text": [
      "<class 'pandas.core.frame.DataFrame'>\n",
      "RangeIndex: 398 entries, 0 to 397\n",
      "Data columns (total 8 columns):\n",
      "MPG             398 non-null float64\n",
      "CYLINDERS       398 non-null int64\n",
      "DISPLACEMENT    398 non-null float64\n",
      "HORSEPOWER      398 non-null object\n",
      "WEIGHT          398 non-null int64\n",
      "ACCELERATION    398 non-null float64\n",
      "MODELYEAR       398 non-null int64\n",
      "NAME            398 non-null object\n",
      "dtypes: float64(3), int64(3), object(2)\n",
      "memory usage: 25.0+ KB\n"
     ]
    }
   ],
   "source": [
    "df.info()"
   ]
  },
  {
   "cell_type": "markdown",
   "metadata": {},
   "source": [
    "We see that there are 398 total, but we are not sure if they are all numbers.\n",
    "Let's write a quick function to see."
   ]
  },
  {
   "cell_type": "code",
   "execution_count": 5,
   "metadata": {},
   "outputs": [
    {
     "name": "stdout",
     "output_type": "stream",
     "text": [
      "?\n",
      "?\n",
      "?\n",
      "?\n",
      "?\n",
      "?\n"
     ]
    }
   ],
   "source": [
    "for num in df['HORSEPOWER']:\n",
    "    if num.isnumeric() == False:\n",
    "        print(num)\n",
    "    else:\n",
    "        pass"
   ]
  },
  {
   "cell_type": "markdown",
   "metadata": {},
   "source": [
    "'?' is being used to replace unknown values. Let us replace that with a number to standout and later replace with median"
   ]
  },
  {
   "cell_type": "code",
   "execution_count": 6,
   "metadata": {
    "collapsed": true
   },
   "outputs": [],
   "source": [
    "df['HP'] = df['HORSEPOWER'].replace(['?','99999'])"
   ]
  },
  {
   "cell_type": "code",
   "execution_count": 7,
   "metadata": {
    "collapsed": true
   },
   "outputs": [],
   "source": [
    "# if we removed all the '?'\n",
    "# then nothing will output\n",
    "for num in df['HP']:\n",
    "    if num.isnumeric() == False:\n",
    "        print(num)\n",
    "    else:\n",
    "        pass"
   ]
  },
  {
   "cell_type": "markdown",
   "metadata": {},
   "source": [
    "Now convert to 'int'"
   ]
  },
  {
   "cell_type": "code",
   "execution_count": 8,
   "metadata": {
    "collapsed": true
   },
   "outputs": [],
   "source": [
    "df['HP'] = df['HP'].astype('int')"
   ]
  },
  {
   "cell_type": "markdown",
   "metadata": {},
   "source": [
    "Here we see we have HP as 'int'"
   ]
  },
  {
   "cell_type": "code",
   "execution_count": 9,
   "metadata": {},
   "outputs": [
    {
     "name": "stdout",
     "output_type": "stream",
     "text": [
      "<class 'pandas.core.frame.DataFrame'>\n",
      "RangeIndex: 398 entries, 0 to 397\n",
      "Data columns (total 9 columns):\n",
      "MPG             398 non-null float64\n",
      "CYLINDERS       398 non-null int64\n",
      "DISPLACEMENT    398 non-null float64\n",
      "HORSEPOWER      398 non-null object\n",
      "WEIGHT          398 non-null int64\n",
      "ACCELERATION    398 non-null float64\n",
      "MODELYEAR       398 non-null int64\n",
      "NAME            398 non-null object\n",
      "HP              398 non-null int64\n",
      "dtypes: float64(3), int64(4), object(2)\n",
      "memory usage: 28.1+ KB\n"
     ]
    }
   ],
   "source": [
    "df.info()"
   ]
  },
  {
   "cell_type": "markdown",
   "metadata": {},
   "source": [
    "We used 99999 as an int filler. Replace that value with the median."
   ]
  },
  {
   "cell_type": "code",
   "execution_count": 10,
   "metadata": {},
   "outputs": [
    {
     "name": "stdout",
     "output_type": "stream",
     "text": [
      "92.5\n"
     ]
    }
   ],
   "source": [
    "median = df['HP'].median()\n",
    "print(median)"
   ]
  },
  {
   "cell_type": "code",
   "execution_count": 11,
   "metadata": {},
   "outputs": [
    {
     "data": {
      "text/plain": [
       "0      130\n",
       "1      165\n",
       "2      150\n",
       "3      150\n",
       "4      140\n",
       "5      198\n",
       "6      220\n",
       "7      215\n",
       "8      225\n",
       "9      190\n",
       "10     170\n",
       "11     160\n",
       "12     150\n",
       "13     225\n",
       "14      95\n",
       "15      95\n",
       "16      97\n",
       "17      85\n",
       "18      88\n",
       "19      46\n",
       "20      87\n",
       "21      90\n",
       "22      95\n",
       "23     113\n",
       "24      90\n",
       "25     215\n",
       "26     200\n",
       "27     210\n",
       "28     193\n",
       "29      88\n",
       "      ... \n",
       "368     88\n",
       "369     88\n",
       "370     85\n",
       "371     84\n",
       "372     90\n",
       "373     92\n",
       "374     92\n",
       "375     74\n",
       "376     68\n",
       "377     68\n",
       "378     63\n",
       "379     70\n",
       "380     88\n",
       "381     75\n",
       "382     70\n",
       "383     67\n",
       "384     67\n",
       "385     67\n",
       "386    110\n",
       "387     85\n",
       "388     92\n",
       "389    112\n",
       "390     96\n",
       "391     84\n",
       "392     90\n",
       "393     86\n",
       "394     52\n",
       "395     84\n",
       "396     79\n",
       "397     82\n",
       "Name: HP, Length: 398, dtype: int64"
      ]
     },
     "execution_count": 11,
     "metadata": {},
     "output_type": "execute_result"
    }
   ],
   "source": [
    "df['HP'].replace([99999, median])"
   ]
  },
  {
   "cell_type": "markdown",
   "metadata": {},
   "source": [
    "We now see which values we will use to predict MPG"
   ]
  },
  {
   "cell_type": "code",
   "execution_count": 12,
   "metadata": {},
   "outputs": [
    {
     "data": {
      "text/html": [
       "<div>\n",
       "<style>\n",
       "    .dataframe thead tr:only-child th {\n",
       "        text-align: right;\n",
       "    }\n",
       "\n",
       "    .dataframe thead th {\n",
       "        text-align: left;\n",
       "    }\n",
       "\n",
       "    .dataframe tbody tr th {\n",
       "        vertical-align: top;\n",
       "    }\n",
       "</style>\n",
       "<table border=\"1\" class=\"dataframe\">\n",
       "  <thead>\n",
       "    <tr style=\"text-align: right;\">\n",
       "      <th></th>\n",
       "      <th>MPG</th>\n",
       "      <th>CYLINDERS</th>\n",
       "      <th>DISPLACEMENT</th>\n",
       "      <th>WEIGHT</th>\n",
       "      <th>ACCELERATION</th>\n",
       "      <th>MODELYEAR</th>\n",
       "      <th>HP</th>\n",
       "    </tr>\n",
       "  </thead>\n",
       "  <tbody>\n",
       "    <tr>\n",
       "      <th>count</th>\n",
       "      <td>398.000000</td>\n",
       "      <td>398.000000</td>\n",
       "      <td>398.000000</td>\n",
       "      <td>398.000000</td>\n",
       "      <td>398.000000</td>\n",
       "      <td>398.000000</td>\n",
       "      <td>398.000000</td>\n",
       "    </tr>\n",
       "    <tr>\n",
       "      <th>mean</th>\n",
       "      <td>23.514573</td>\n",
       "      <td>5.454774</td>\n",
       "      <td>193.425879</td>\n",
       "      <td>2970.424623</td>\n",
       "      <td>15.568090</td>\n",
       "      <td>76.010050</td>\n",
       "      <td>104.178392</td>\n",
       "    </tr>\n",
       "    <tr>\n",
       "      <th>std</th>\n",
       "      <td>7.815984</td>\n",
       "      <td>1.701004</td>\n",
       "      <td>104.269838</td>\n",
       "      <td>846.841774</td>\n",
       "      <td>2.757689</td>\n",
       "      <td>3.697627</td>\n",
       "      <td>38.294837</td>\n",
       "    </tr>\n",
       "    <tr>\n",
       "      <th>min</th>\n",
       "      <td>9.000000</td>\n",
       "      <td>3.000000</td>\n",
       "      <td>68.000000</td>\n",
       "      <td>1613.000000</td>\n",
       "      <td>8.000000</td>\n",
       "      <td>70.000000</td>\n",
       "      <td>46.000000</td>\n",
       "    </tr>\n",
       "    <tr>\n",
       "      <th>25%</th>\n",
       "      <td>17.500000</td>\n",
       "      <td>4.000000</td>\n",
       "      <td>104.250000</td>\n",
       "      <td>2223.750000</td>\n",
       "      <td>13.825000</td>\n",
       "      <td>73.000000</td>\n",
       "      <td>75.000000</td>\n",
       "    </tr>\n",
       "    <tr>\n",
       "      <th>50%</th>\n",
       "      <td>23.000000</td>\n",
       "      <td>4.000000</td>\n",
       "      <td>148.500000</td>\n",
       "      <td>2803.500000</td>\n",
       "      <td>15.500000</td>\n",
       "      <td>76.000000</td>\n",
       "      <td>92.500000</td>\n",
       "    </tr>\n",
       "    <tr>\n",
       "      <th>75%</th>\n",
       "      <td>29.000000</td>\n",
       "      <td>8.000000</td>\n",
       "      <td>262.000000</td>\n",
       "      <td>3608.000000</td>\n",
       "      <td>17.175000</td>\n",
       "      <td>79.000000</td>\n",
       "      <td>125.000000</td>\n",
       "    </tr>\n",
       "    <tr>\n",
       "      <th>max</th>\n",
       "      <td>46.600000</td>\n",
       "      <td>8.000000</td>\n",
       "      <td>455.000000</td>\n",
       "      <td>5140.000000</td>\n",
       "      <td>24.800000</td>\n",
       "      <td>82.000000</td>\n",
       "      <td>230.000000</td>\n",
       "    </tr>\n",
       "  </tbody>\n",
       "</table>\n",
       "</div>"
      ],
      "text/plain": [
       "              MPG   CYLINDERS  DISPLACEMENT       WEIGHT  ACCELERATION  \\\n",
       "count  398.000000  398.000000    398.000000   398.000000    398.000000   \n",
       "mean    23.514573    5.454774    193.425879  2970.424623     15.568090   \n",
       "std      7.815984    1.701004    104.269838   846.841774      2.757689   \n",
       "min      9.000000    3.000000     68.000000  1613.000000      8.000000   \n",
       "25%     17.500000    4.000000    104.250000  2223.750000     13.825000   \n",
       "50%     23.000000    4.000000    148.500000  2803.500000     15.500000   \n",
       "75%     29.000000    8.000000    262.000000  3608.000000     17.175000   \n",
       "max     46.600000    8.000000    455.000000  5140.000000     24.800000   \n",
       "\n",
       "        MODELYEAR          HP  \n",
       "count  398.000000  398.000000  \n",
       "mean    76.010050  104.178392  \n",
       "std      3.697627   38.294837  \n",
       "min     70.000000   46.000000  \n",
       "25%     73.000000   75.000000  \n",
       "50%     76.000000   92.500000  \n",
       "75%     79.000000  125.000000  \n",
       "max     82.000000  230.000000  "
      ]
     },
     "execution_count": 12,
     "metadata": {},
     "output_type": "execute_result"
    }
   ],
   "source": [
    "df.describe()"
   ]
  },
  {
   "cell_type": "code",
   "execution_count": 13,
   "metadata": {
    "collapsed": true
   },
   "outputs": [],
   "source": [
    "y = df['MPG'].values"
   ]
  },
  {
   "cell_type": "code",
   "execution_count": 14,
   "metadata": {
    "collapsed": true
   },
   "outputs": [],
   "source": [
    "x = df.drop(['MPG','HORSEPOWER','NAME'], axis=1)"
   ]
  },
  {
   "cell_type": "markdown",
   "metadata": {},
   "source": [
    "Now let's split the data set into 70% training and 30% test"
   ]
  },
  {
   "cell_type": "code",
   "execution_count": 15,
   "metadata": {
    "collapsed": true
   },
   "outputs": [],
   "source": [
    "x_train, x_test, y_train, y_test = train_test_split(x,y, test_size=.3)"
   ]
  },
  {
   "cell_type": "code",
   "execution_count": 16,
   "metadata": {
    "collapsed": true
   },
   "outputs": [],
   "source": [
    "model = LinearRegression()"
   ]
  },
  {
   "cell_type": "code",
   "execution_count": 17,
   "metadata": {},
   "outputs": [
    {
     "data": {
      "text/plain": [
       "LinearRegression(copy_X=True, fit_intercept=True, n_jobs=1, normalize=False)"
      ]
     },
     "execution_count": 17,
     "metadata": {},
     "output_type": "execute_result"
    }
   ],
   "source": [
    "model.fit(x_train, y_train)"
   ]
  },
  {
   "cell_type": "code",
   "execution_count": 18,
   "metadata": {
    "collapsed": true
   },
   "outputs": [],
   "source": [
    "pred = model.predict(x_test)"
   ]
  },
  {
   "cell_type": "code",
   "execution_count": 19,
   "metadata": {},
   "outputs": [
    {
     "name": "stdout",
     "output_type": "stream",
     "text": [
      "R^2:  0.823870918\n",
      "RMSE:  3.1516201480958834\n"
     ]
    },
    {
     "data": {
      "image/png": "[encoded data removed]",
      "text/plain": [
       "<matplotlib.figure.Figure at 0x116256978>"
      ]
     },
     "metadata": {},
     "output_type": "display_data"
    }
   ],
   "source": [
    "plt.plot(y_test, y_test, color='red') # red line of actual values\n",
    "plt.scatter(y_test, pred)\n",
    "plt.xlabel('Predicted')\n",
    "plt.ylabel('Actual')\n",
    "print('R^2: ', metrics.r2_score(y_test,pred))\n",
    "print('RMSE: ', sqrt(metrics.mean_squared_error(y_test, pred)))"
   ]
  },
  {
   "cell_type": "markdown",
   "metadata": {
    "collapsed": true
   },
   "source": [
    "##### Now we have a baseline\n",
    "\n",
    "Can we improve accuracy without changing from a linear regression model?"
   ]
  },
  {
   "cell_type": "code",
   "execution_count": 20,
   "metadata": {},
   "outputs": [
    {
     "data": {
      "text/html": [
       "<div>\n",
       "<style>\n",
       "    .dataframe thead tr:only-child th {\n",
       "        text-align: right;\n",
       "    }\n",
       "\n",
       "    .dataframe thead th {\n",
       "        text-align: left;\n",
       "    }\n",
       "\n",
       "    .dataframe tbody tr th {\n",
       "        vertical-align: top;\n",
       "    }\n",
       "</style>\n",
       "<table border=\"1\" class=\"dataframe\">\n",
       "  <thead>\n",
       "    <tr style=\"text-align: right;\">\n",
       "      <th></th>\n",
       "      <th>MPG</th>\n",
       "      <th>CYLINDERS</th>\n",
       "      <th>DISPLACEMENT</th>\n",
       "      <th>WEIGHT</th>\n",
       "      <th>ACCELERATION</th>\n",
       "      <th>MODELYEAR</th>\n",
       "      <th>HP</th>\n",
       "    </tr>\n",
       "  </thead>\n",
       "  <tbody>\n",
       "    <tr>\n",
       "      <th>MPG</th>\n",
       "      <td>1.000000</td>\n",
       "      <td>-0.775396</td>\n",
       "      <td>-0.804203</td>\n",
       "      <td>-0.831741</td>\n",
       "      <td>0.420289</td>\n",
       "      <td>0.579267</td>\n",
       "      <td>-0.777685</td>\n",
       "    </tr>\n",
       "    <tr>\n",
       "      <th>CYLINDERS</th>\n",
       "      <td>-0.775396</td>\n",
       "      <td>1.000000</td>\n",
       "      <td>0.950721</td>\n",
       "      <td>0.896017</td>\n",
       "      <td>-0.505419</td>\n",
       "      <td>-0.348746</td>\n",
       "      <td>0.842627</td>\n",
       "    </tr>\n",
       "    <tr>\n",
       "      <th>DISPLACEMENT</th>\n",
       "      <td>-0.804203</td>\n",
       "      <td>0.950721</td>\n",
       "      <td>1.000000</td>\n",
       "      <td>0.932824</td>\n",
       "      <td>-0.543684</td>\n",
       "      <td>-0.370164</td>\n",
       "      <td>0.897192</td>\n",
       "    </tr>\n",
       "    <tr>\n",
       "      <th>WEIGHT</th>\n",
       "      <td>-0.831741</td>\n",
       "      <td>0.896017</td>\n",
       "      <td>0.932824</td>\n",
       "      <td>1.000000</td>\n",
       "      <td>-0.417457</td>\n",
       "      <td>-0.306564</td>\n",
       "      <td>0.864040</td>\n",
       "    </tr>\n",
       "    <tr>\n",
       "      <th>ACCELERATION</th>\n",
       "      <td>0.420289</td>\n",
       "      <td>-0.505419</td>\n",
       "      <td>-0.543684</td>\n",
       "      <td>-0.417457</td>\n",
       "      <td>1.000000</td>\n",
       "      <td>0.288137</td>\n",
       "      <td>-0.686334</td>\n",
       "    </tr>\n",
       "    <tr>\n",
       "      <th>MODELYEAR</th>\n",
       "      <td>0.579267</td>\n",
       "      <td>-0.348746</td>\n",
       "      <td>-0.370164</td>\n",
       "      <td>-0.306564</td>\n",
       "      <td>0.288137</td>\n",
       "      <td>1.000000</td>\n",
       "      <td>-0.417302</td>\n",
       "    </tr>\n",
       "    <tr>\n",
       "      <th>HP</th>\n",
       "      <td>-0.777685</td>\n",
       "      <td>0.842627</td>\n",
       "      <td>0.897192</td>\n",
       "      <td>0.864040</td>\n",
       "      <td>-0.686334</td>\n",
       "      <td>-0.417302</td>\n",
       "      <td>1.000000</td>\n",
       "    </tr>\n",
       "  </tbody>\n",
       "</table>\n",
       "</div>"
      ],
      "text/plain": [
       "                   MPG  CYLINDERS  DISPLACEMENT    WEIGHT  ACCELERATION  \\\n",
       "MPG           1.000000  -0.775396     -0.804203 -0.831741      0.420289   \n",
       "CYLINDERS    -0.775396   1.000000      0.950721  0.896017     -0.505419   \n",
       "DISPLACEMENT -0.804203   0.950721      1.000000  0.932824     -0.543684   \n",
       "WEIGHT       -0.831741   0.896017      0.932824  1.000000     -0.417457   \n",
       "ACCELERATION  0.420289  -0.505419     -0.543684 -0.417457      1.000000   \n",
       "MODELYEAR     0.579267  -0.348746     -0.370164 -0.306564      0.288137   \n",
       "HP           -0.777685   0.842627      0.897192  0.864040     -0.686334   \n",
       "\n",
       "              MODELYEAR        HP  \n",
       "MPG            0.579267 -0.777685  \n",
       "CYLINDERS     -0.348746  0.842627  \n",
       "DISPLACEMENT  -0.370164  0.897192  \n",
       "WEIGHT        -0.306564  0.864040  \n",
       "ACCELERATION   0.288137 -0.686334  \n",
       "MODELYEAR      1.000000 -0.417302  \n",
       "HP            -0.417302  1.000000  "
      ]
     },
     "execution_count": 20,
     "metadata": {},
     "output_type": "execute_result"
    }
   ],
   "source": [
    "df.corr()"
   ]
  },
  {
   "cell_type": "markdown",
   "metadata": {
    "collapsed": true
   },
   "source": [
    "Let's drop acceleration and modelyear as they have the lowest correlation with MPG"
   ]
  },
  {
   "cell_type": "code",
   "execution_count": 21,
   "metadata": {
    "collapsed": true
   },
   "outputs": [],
   "source": [
    "x = df.drop(['MPG','HORSEPOWER','NAME','ACCELERATION','MODELYEAR'], axis=1)"
   ]
  },
  {
   "cell_type": "code",
   "execution_count": 22,
   "metadata": {
    "collapsed": true
   },
   "outputs": [],
   "source": [
    "x_train, x_test, y_train, y_test = train_test_split(x,y, test_size=.3)"
   ]
  },
  {
   "cell_type": "code",
   "execution_count": 23,
   "metadata": {},
   "outputs": [
    {
     "data": {
      "text/plain": [
       "LinearRegression(copy_X=True, fit_intercept=True, n_jobs=1, normalize=False)"
      ]
     },
     "execution_count": 23,
     "metadata": {},
     "output_type": "execute_result"
    }
   ],
   "source": [
    "model.fit(x_train, y_train)"
   ]
  },
  {
   "cell_type": "code",
   "execution_count": 24,
   "metadata": {
    "collapsed": true
   },
   "outputs": [],
   "source": [
    "pred = model.predict(x_test)"
   ]
  },
  {
   "cell_type": "code",
   "execution_count": 25,
   "metadata": {},
   "outputs": [
    {
     "name": "stdout",
     "output_type": "stream",
     "text": [
      "R^2:  0.641350294559\n",
      "RMSE:  4.809769855310567\n"
     ]
    },
    {
     "data": {
      "image/png": "[encoded data removed]",
      "text/plain": [
       "<matplotlib.figure.Figure at 0x1186f4ef0>"
      ]
     },
     "metadata": {},
     "output_type": "display_data"
    }
   ],
   "source": [
    "plt.plot(y_test, y_test, color='red')\n",
    "plt.scatter(y_test, pred)\n",
    "plt.xlabel('Predicted')\n",
    "plt.ylabel('Actual')\n",
    "print('R^2: ', metrics.r2_score(y_test,pred))\n",
    "print('RMSE: ', sqrt(metrics.mean_squared_error(y_test, pred)))"
   ]
  },
  {
   "cell_type": "markdown",
   "metadata": {
    "collapsed": true
   },
   "source": [
    "#### Notice our accuracy score is worse\n",
    "Even though a correlation matrix intuitively makes sense, keeping only the high correlation variables made the RMSE worse"
   ]
  },
  {
   "cell_type": "markdown",
   "metadata": {
    "collapsed": true
   },
   "source": [
    "### Did we miss something? We focused on correlation to MPG, but we didn't look at other variables\n",
    "Let's bring in seaborn to make a better visualization of the correlation matrix"
   ]
  },
  {
   "cell_type": "code",
   "execution_count": 26,
   "metadata": {
    "collapsed": true
   },
   "outputs": [],
   "source": [
    "corr = df.corr()"
   ]
  },
  {
   "cell_type": "code",
   "execution_count": 27,
   "metadata": {},
   "outputs": [
    {
     "name": "stdout",
     "output_type": "stream",
     "text": [
      "                   MPG  CYLINDERS  DISPLACEMENT    WEIGHT  ACCELERATION  \\\n",
      "MPG           1.000000  -0.775396     -0.804203 -0.831741      0.420289   \n",
      "CYLINDERS    -0.775396   1.000000      0.950721  0.896017     -0.505419   \n",
      "DISPLACEMENT -0.804203   0.950721      1.000000  0.932824     -0.543684   \n",
      "WEIGHT       -0.831741   0.896017      0.932824  1.000000     -0.417457   \n",
      "ACCELERATION  0.420289  -0.505419     -0.543684 -0.417457      1.000000   \n",
      "MODELYEAR     0.579267  -0.348746     -0.370164 -0.306564      0.288137   \n",
      "HP           -0.777685   0.842627      0.897192  0.864040     -0.686334   \n",
      "\n",
      "              MODELYEAR        HP  \n",
      "MPG            0.579267 -0.777685  \n",
      "CYLINDERS     -0.348746  0.842627  \n",
      "DISPLACEMENT  -0.370164  0.897192  \n",
      "WEIGHT        -0.306564  0.864040  \n",
      "ACCELERATION   0.288137 -0.686334  \n",
      "MODELYEAR      1.000000 -0.417302  \n",
      "HP            -0.417302  1.000000  \n"
     ]
    }
   ],
   "source": [
    "print(corr)"
   ]
  },
  {
   "cell_type": "markdown",
   "metadata": {},
   "source": [
    "### Here we can see much easier that CYLINDERS, DISPLACEMENT, and WEIGHT are highly correlated with one another"
   ]
  },
  {
   "cell_type": "code",
   "execution_count": 28,
   "metadata": {},
   "outputs": [
    {
     "data": {
      "text/plain": [
       "<matplotlib.axes._subplots.AxesSubplot at 0x118904da0>"
      ]
     },
     "execution_count": 28,
     "metadata": {},
     "output_type": "execute_result"
    },
    {
     "data": {
      "image/png": "[encoded data removed]",
      "text/plain": [
       "<matplotlib.figure.Figure at 0x1187119b0>"
      ]
     },
     "metadata": {},
     "output_type": "display_data"
    }
   ],
   "source": [
    "sns.heatmap(corr)"
   ]
  },
  {
   "cell_type": "markdown",
   "metadata": {},
   "source": [
    "Weight has the strongest correlation with MPG, so we will drop CYLINDERS and DISPLACEMENT"
   ]
  },
  {
   "cell_type": "code",
   "execution_count": 29,
   "metadata": {
    "collapsed": true
   },
   "outputs": [],
   "source": [
    "x = df.drop(['MPG','HORSEPOWER','NAME','CYLINDERS','DISPLACEMENT'], axis=1)"
   ]
  },
  {
   "cell_type": "code",
   "execution_count": 30,
   "metadata": {
    "collapsed": true
   },
   "outputs": [],
   "source": [
    "x_train, x_test, y_train, y_test = train_test_split(x,y, test_size=.3)"
   ]
  },
  {
   "cell_type": "code",
   "execution_count": 31,
   "metadata": {},
   "outputs": [
    {
     "data": {
      "text/plain": [
       "LinearRegression(copy_X=True, fit_intercept=True, n_jobs=1, normalize=False)"
      ]
     },
     "execution_count": 31,
     "metadata": {},
     "output_type": "execute_result"
    }
   ],
   "source": [
    "model.fit(x_train, y_train)"
   ]
  },
  {
   "cell_type": "code",
   "execution_count": 32,
   "metadata": {
    "collapsed": true
   },
   "outputs": [],
   "source": [
    "pred = model.predict(x_test)"
   ]
  },
  {
   "cell_type": "code",
   "execution_count": 33,
   "metadata": {},
   "outputs": [
    {
     "name": "stdout",
     "output_type": "stream",
     "text": [
      "R^2:  0.845211676354\n",
      "RMSE:  3.0111128780630296\n"
     ]
    },
    {
     "data": {
      "image/png": "[encoded data removed]",
      "text/plain": [
       "<matplotlib.figure.Figure at 0x11888d128>"
      ]
     },
     "metadata": {},
     "output_type": "display_data"
    }
   ],
   "source": [
    "plt.plot(y_test, y_test, color='red')\n",
    "plt.scatter(y_test, pred)\n",
    "plt.xlabel('Predicted')\n",
    "plt.ylabel('Actual')\n",
    "print('R^2: ', metrics.r2_score(y_test,pred))\n",
    "print('RMSE: ', sqrt(metrics.mean_squared_error(y_test, pred)))"
   ]
  },
  {
   "cell_type": "markdown",
   "metadata": {
    "collapsed": true
   },
   "source": [
    "#### It improved! \n",
    "#### The improvement isn't much but it is a step in the right direction\n",
    "###### All variables: RMSE:  3.1516201480958834\n",
    "###### Removed correlated variables: RMSE:  3.0111128780630296"
   ]
  },
  {
   "cell_type": "markdown",
   "metadata": {
    "collapsed": true
   },
   "source": [
    "# Log transformation\n",
    "We can do this for modeling but remember to transform back when determining RMSE"
   ]
  },
  {
   "cell_type": "markdown",
   "metadata": {},
   "source": [
    "Here we use numpy to transform the variables to their natural log"
   ]
  },
  {
   "cell_type": "code",
   "execution_count": 34,
   "metadata": {
    "collapsed": true
   },
   "outputs": [],
   "source": [
    "y = np.log(df['MPG'].values)"
   ]
  },
  {
   "cell_type": "code",
   "execution_count": 35,
   "metadata": {
    "collapsed": true
   },
   "outputs": [],
   "source": [
    "x = np.log(df.drop(['MPG','HORSEPOWER','NAME','CYLINDERS','DISPLACEMENT'], axis=1))"
   ]
  },
  {
   "cell_type": "code",
   "execution_count": 36,
   "metadata": {
    "collapsed": true
   },
   "outputs": [],
   "source": [
    "x_train, x_test, y_train, y_test = train_test_split(x,y, test_size=.3)"
   ]
  },
  {
   "cell_type": "code",
   "execution_count": 37,
   "metadata": {},
   "outputs": [
    {
     "data": {
      "text/plain": [
       "LinearRegression(copy_X=True, fit_intercept=True, n_jobs=1, normalize=False)"
      ]
     },
     "execution_count": 37,
     "metadata": {},
     "output_type": "execute_result"
    }
   ],
   "source": [
    "model.fit(x_train, y_train)"
   ]
  },
  {
   "cell_type": "code",
   "execution_count": 38,
   "metadata": {
    "collapsed": true
   },
   "outputs": [],
   "source": [
    "pred = model.predict(x_test)"
   ]
  },
  {
   "cell_type": "markdown",
   "metadata": {},
   "source": [
    "Remember to transform back"
   ]
  },
  {
   "cell_type": "code",
   "execution_count": 39,
   "metadata": {
    "collapsed": true
   },
   "outputs": [],
   "source": [
    "y_test = np.exp(y_test)\n",
    "pred = np.exp(pred)"
   ]
  },
  {
   "cell_type": "code",
   "execution_count": 40,
   "metadata": {},
   "outputs": [
    {
     "name": "stdout",
     "output_type": "stream",
     "text": [
      "R^2:  0.881115070543\n",
      "RMSE:  2.5710589009164093\n"
     ]
    },
    {
     "data": {
      "image/png": "[encoded data removed]",
      "text/plain": [
       "<matplotlib.figure.Figure at 0x11626c5c0>"
      ]
     },
     "metadata": {},
     "output_type": "display_data"
    }
   ],
   "source": [
    "plt.plot(y_test, y_test, color='red')\n",
    "plt.scatter(y_test, pred)\n",
    "plt.xlabel('Predicted')\n",
    "plt.ylabel('Actual')\n",
    "print('R^2: ', metrics.r2_score(y_test,pred))\n",
    "print('RMSE: ', sqrt(metrics.mean_squared_error(y_test, pred)))"
   ]
  },
  {
   "cell_type": "markdown",
   "metadata": {
    "collapsed": true
   },
   "source": [
    "#### Let's try a slightly more sophisticated algorithm now that we have a more accurate baseline model"
   ]
  },
  {
   "cell_type": "code",
   "execution_count": 41,
   "metadata": {
    "collapsed": true
   },
   "outputs": [],
   "source": [
    "from sklearn.ensemble import RandomForestRegressor"
   ]
  },
  {
   "cell_type": "code",
   "execution_count": 42,
   "metadata": {
    "collapsed": true
   },
   "outputs": [],
   "source": [
    "rfr = RandomForestRegressor(random_state=42)"
   ]
  },
  {
   "cell_type": "code",
   "execution_count": 43,
   "metadata": {
    "collapsed": true
   },
   "outputs": [],
   "source": [
    "#y = np.log(df['MPG'].values)\n",
    "y = df['MPG'].values"
   ]
  },
  {
   "cell_type": "code",
   "execution_count": 44,
   "metadata": {
    "collapsed": true
   },
   "outputs": [],
   "source": [
    "#x = np.log(df.drop(['MPG','HORSEPOWER','NAME','CYLINDERS','DISPLACEMENT'], axis=1))\n",
    "x = df.drop(['MPG','HORSEPOWER','NAME','CYLINDERS','DISPLACEMENT'], axis=1)"
   ]
  },
  {
   "cell_type": "code",
   "execution_count": 45,
   "metadata": {
    "collapsed": true
   },
   "outputs": [],
   "source": [
    "x_train, x_test, y_train, y_test = train_test_split(x,y, test_size=.3)"
   ]
  },
  {
   "cell_type": "code",
   "execution_count": 46,
   "metadata": {
    "collapsed": true
   },
   "outputs": [],
   "source": [
    "x_train = np.log(x_train)\n",
    "x_test = np.log(x_test)\n",
    "y_train = np.log(y_train)\n",
    "y_test = np.log(y_test)"
   ]
  },
  {
   "cell_type": "code",
   "execution_count": 47,
   "metadata": {},
   "outputs": [
    {
     "data": {
      "text/plain": [
       "RandomForestRegressor(bootstrap=True, criterion='mse', max_depth=None,\n",
       "           max_features='auto', max_leaf_nodes=None,\n",
       "           min_impurity_split=1e-07, min_samples_leaf=1,\n",
       "           min_samples_split=2, min_weight_fraction_leaf=0.0,\n",
       "           n_estimators=10, n_jobs=1, oob_score=False, random_state=42,\n",
       "           verbose=0, warm_start=False)"
      ]
     },
     "execution_count": 47,
     "metadata": {},
     "output_type": "execute_result"
    }
   ],
   "source": [
    "rfr.fit(x_train, y_train)"
   ]
  },
  {
   "cell_type": "code",
   "execution_count": 48,
   "metadata": {
    "collapsed": true
   },
   "outputs": [],
   "source": [
    "pred = rfr.predict(x_test)"
   ]
  },
  {
   "cell_type": "code",
   "execution_count": 49,
   "metadata": {
    "collapsed": true
   },
   "outputs": [],
   "source": [
    "# remember to transform back\n",
    "y_test = np.exp(y_test)\n",
    "pred = np.exp(pred)"
   ]
  },
  {
   "cell_type": "code",
   "execution_count": 50,
   "metadata": {},
   "outputs": [
    {
     "name": "stdout",
     "output_type": "stream",
     "text": [
      "R^2:  0.842726729237\n",
      "RMSE:  2.9385967644653435\n"
     ]
    },
    {
     "data": {
      "image/png": "[encoded data removed]",
      "text/plain": [
       "<matplotlib.figure.Figure at 0x118dc3780>"
      ]
     },
     "metadata": {},
     "output_type": "display_data"
    }
   ],
   "source": [
    "# Plot our predictions vs actual\n",
    "plt.plot(y_test, y_test, color='red') # line of actual values\n",
    "plt.scatter(y_test, pred)\n",
    "plt.xlabel('Predicted')\n",
    "plt.ylabel('Actual')\n",
    "print('R^2: ', metrics.r2_score(y_test,pred))\n",
    "print('RMSE: ', sqrt(metrics.mean_squared_error(y_test, pred)))"
   ]
  },
  {
   "cell_type": "markdown",
   "metadata": {},
   "source": [
    "Default is only 10 trees. Let's start with 100 and move up to 1,000\n",
    "Remember to set the random_state to reproduce results"
   ]
  },
  {
   "cell_type": "code",
   "execution_count": 52,
   "metadata": {
    "collapsed": true
   },
   "outputs": [],
   "source": [
    "y_test = np.log(y_test)"
   ]
  },
  {
   "cell_type": "code",
   "execution_count": 53,
   "metadata": {},
   "outputs": [
    {
     "name": "stdout",
     "output_type": "stream",
     "text": [
      "n_estimators:  100\n",
      "R^2:  0.885765286246\n",
      "RMSE:  2.5044455016115283\n",
      "-------------------------\n",
      "n_estimators:  200\n",
      "R^2:  0.886035285642\n",
      "RMSE:  2.5014840602830133\n",
      "-------------------------\n",
      "n_estimators:  300\n",
      "R^2:  0.883083292565\n",
      "RMSE:  2.5336745256021485\n",
      "-------------------------\n",
      "n_estimators:  400\n",
      "R^2:  0.885222105032\n",
      "RMSE:  2.5103927063280818\n",
      "-------------------------\n",
      "n_estimators:  500\n",
      "R^2:  0.884488644995\n",
      "RMSE:  2.5184009580011115\n",
      "-------------------------\n",
      "n_estimators:  600\n",
      "R^2:  0.88347185995\n",
      "RMSE:  2.529460745316997\n",
      "-------------------------\n",
      "n_estimators:  700\n",
      "R^2:  0.883260105357\n",
      "RMSE:  2.531757966474078\n",
      "-------------------------\n",
      "n_estimators:  800\n",
      "R^2:  0.882459234727\n",
      "RMSE:  2.540427431940924\n",
      "-------------------------\n",
      "n_estimators:  900\n",
      "R^2:  0.882837538811\n",
      "RMSE:  2.5363359637449734\n",
      "-------------------------\n",
      "n_estimators:  1000\n",
      "R^2:  0.88349085823\n",
      "RMSE:  2.5292545403513125\n",
      "-------------------------\n"
     ]
    }
   ],
   "source": [
    "for i in range(1,11):\n",
    "    n = i*100\n",
    "    rfr = RandomForestRegressor(n_estimators=n, random_state=42, oob_score=True)\n",
    "    rfr.fit(x_train, y_train)\n",
    "    pred = rfr.predict(x_test)\n",
    "    y_test = np.exp(y_test)\n",
    "    pred = np.exp(pred)\n",
    "    print('n_estimators: ', n)\n",
    "    print('R^2: ', metrics.r2_score(y_test,pred))\n",
    "    print('RMSE: ', sqrt(metrics.mean_squared_error(y_test, pred)))\n",
    "    print('-'*25)\n",
    "    y_test = np.log(y_test)"
   ]
  },
  {
   "cell_type": "markdown",
   "metadata": {},
   "source": [
    "# Final Results"
   ]
  },
  {
   "cell_type": "markdown",
   "metadata": {
    "collapsed": true
   },
   "source": [
    "#### Linear regression with all features\n",
    "RMSE:  3.1516201480958834\n",
    "#### Linear regression with features highly correlated to target\n",
    "RMSE:  4.809769855310567\n",
    "#### Linear regression with manual feature selection and log transformation\n",
    "##### RMSE:  2.5710589009164093\n",
    "#### Default random forest with manual feature selection and log transformation\n",
    "RMSE:  2.9385967644653435\n",
    "#### Random forest with 400 trees, manual feature selection, and log transformation\n",
    "##### RMSE:  2.5103927063280818"
   ]
  },
  {
   "cell_type": "markdown",
   "metadata": {},
   "source": [
    "### The results above illustrate how a simple model using classic statistical techniques can compete in performance with more sophisticated models"
   ]
  },
  {
   "cell_type": "code",
   "execution_count": null,
   "metadata": {
    "collapsed": true
   },
   "outputs": [],
   "source": []
  }
 ],
 "metadata": {
  "kernelspec": {
   "display_name": "Python 3",
   "language": "python",
   "name": "python3"
  },
  "language_info": {
   "codemirror_mode": {
    "name": "ipython",
    "version": 3
   },
   "file_extension": ".py",
   "mimetype": "text/x-python",
   "name": "python",
   "nbconvert_exporter": "python",
   "pygments_lexer": "ipython3",
   "version": "3.6.1"
  }
 },
 "nbformat": 4,
 "nbformat_minor": 2
}
